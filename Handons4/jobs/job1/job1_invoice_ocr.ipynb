{
 "cells": [
  {
   "cell_type": "markdown",
   "id": "e70e1b8f",
   "metadata": {},
   "source": [
    "# Job 1: Đọc ảnh hóa đơn → Trích xuất thông tin → Ghi file Excel\n",
    "\n",
    "Quy trình sử dụng Jupyter Notebook để thực hiện OCR hóa đơn, trích xuất thông tin sản phẩm và giá, ghi ra file Excel."
   ]
  },
  {
   "cell_type": "markdown",
   "id": "3364b2a6",
   "metadata": {},
   "source": [
    "## 1. Cài đặt và kiểm tra các thư viện cần thiết\n",
    "\n",
    "Cài đặt các thư viện Python cần thiết cho job này:\n",
    "\n",
    "```bash\n",
    "!pip install pytesseract pillow pandas openpyxl\n",
    "```\n",
    "\n",
    "Kiểm tra phiên bản và xác nhận đã cài đặt Tesseract OCR trên hệ thống."
   ]
  },
  {
   "cell_type": "code",
   "execution_count": null,
   "id": "f87dc356",
   "metadata": {},
   "outputs": [],
   "source": [
    "# Kiểm tra import và phiên bản các thư viện\n",
    "import pytesseract\n",
    "import PIL\n",
    "import pandas as pd\n",
    "import openpyxl\n",
    "print('pytesseract:', pytesseract.get_tesseract_version())\n",
    "print('Pillow:', PIL.__version__)\n",
    "print('pandas:', pd.__version__)\n"
   ]
  },
  {
   "cell_type": "markdown",
   "id": "84df0805",
   "metadata": {},
   "source": [
    "## 2. Đọc danh sách file ảnh hóa đơn\n",
    "\n",
    "Liệt kê các file ảnh hóa đơn trong thư mục 'invoices/'."
   ]
  },
  {
   "cell_type": "code",
   "execution_count": null,
   "id": "333e4c10",
   "metadata": {},
   "outputs": [],
   "source": [
    "import os\n",
    "image_folder = 'invoices/'\n",
    "image_files = [f for f in os.listdir(image_folder) if f.endswith('.jpg') or f.endswith('.png')]\n",
    "print('Danh sách file ảnh:', image_files)"
   ]
  },
  {
   "cell_type": "markdown",
   "id": "5f84633e",
   "metadata": {},
   "source": [
    "## 3. Thực hiện OCR trên từng ảnh\n",
    "\n",
    "Dùng pytesseract và Pillow để đọc từng file ảnh và trích xuất text."
   ]
  },
  {
   "cell_type": "code",
   "execution_count": null,
   "id": "30f9fbf2",
   "metadata": {},
   "outputs": [],
   "source": [
    "from PIL import Image\n",
    "import pytesseract\n",
    "ocr_results = {}\n",
    "for filename in image_files:\n",
    "    img_path = os.path.join(image_folder, filename)\n",
    "    text = pytesseract.image_to_string(Image.open(img_path))\n",
    "    ocr_results[filename] = text\n",
    "print('Kết quả OCR:', ocr_results)"
   ]
  },
  {
   "cell_type": "markdown",
   "id": "04a0f9a7",
   "metadata": {},
   "source": [
    "## 4. Trích xuất thông tin sản phẩm và giá bằng regex\n",
    "\n",
    "Áp dụng biểu thức chính quy để lấy tên sản phẩm và giá tiền từ text đã OCR."
   ]
  },
  {
   "cell_type": "code",
   "execution_count": null,
   "id": "a4997107",
   "metadata": {},
   "outputs": [],
   "source": [
    "import re\n",
    "results = []\n",
    "for filename, text in ocr_results.items():\n",
    "    items = re.findall(r'(\\w[\\w\\s]+)\\s+(\\d+[.,]?\\d*)', text)\n",
    "    for name, price in items:\n",
    "        results.append({'file': filename, 'product': name.strip(), 'price': price})\n",
    "print('Kết quả trích xuất:', results)"
   ]
  },
  {
   "cell_type": "markdown",
   "id": "fb4e154a",
   "metadata": {},
   "source": [
    "## 5. Ghi kết quả vào file Excel\n",
    "\n",
    "Sử dụng pandas và openpyxl để ghi kết quả vào file 'output.xlsx' với các cột: file, product, price."
   ]
  },
  {
   "cell_type": "code",
   "execution_count": null,
   "id": "9e3e1b1d",
   "metadata": {},
   "outputs": [],
   "source": [
    "import pandas as pd\n",
    "if results:\n",
    "    df = pd.DataFrame(results)\n",
    "    df.to_excel('output.xlsx', index=False)\n",
    "    print('Đã ghi kết quả vào output.xlsx')\n",
    "else:\n",
    "    print('Không tìm thấy sản phẩm nào.')"
   ]
  },
  {
   "cell_type": "markdown",
   "id": "ae2238e1",
   "metadata": {},
   "source": [
    "## 6. Kiểm tra kết quả ghi ra file\n",
    "\n",
    "Đọc lại file Excel vừa ghi để kiểm tra dữ liệu đã được lưu đúng."
   ]
  },
  {
   "cell_type": "code",
   "execution_count": null,
   "id": "5473b961",
   "metadata": {},
   "outputs": [],
   "source": [
    "import pandas as pd\n",
    "df = pd.read_excel('output.xlsx')\n",
    "display(df)"
   ]
  }
 ],
 "metadata": {
  "language_info": {
   "name": "python"
  }
 },
 "nbformat": 4,
 "nbformat_minor": 5
}
