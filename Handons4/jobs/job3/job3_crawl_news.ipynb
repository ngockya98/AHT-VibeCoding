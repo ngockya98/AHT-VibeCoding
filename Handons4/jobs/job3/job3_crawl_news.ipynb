{
 "cells": [
  {
   "cell_type": "markdown",
   "id": "c3b2be7d",
   "metadata": {},
   "source": [
    "# Refactor Job 3: Crawl website tin tức theo mô hình services\n",
    "\n",
    "Chuyển từng bước xử lý thành các hàm riêng biệt (service) để dễ mở rộng, kiểm thử và tái sử dụng."
   ]
  },
  {
   "cell_type": "code",
   "execution_count": 2,
   "id": "cd93474b",
   "metadata": {},
   "outputs": [],
   "source": [
    "def fetch_html(url):\n",
    "    import requests\n",
    "    r = requests.get(url)\n",
    "    return r.text\n",
    "\n",
    "def extract_news(html, selector):\n",
    "    from bs4 import BeautifulSoup\n",
    "    soup = BeautifulSoup(html, 'html.parser')\n",
    "    results = []\n",
    "    for item in soup.select(selector):\n",
    "        title = item.text\n",
    "        link = item['href']\n",
    "        results.append({'title': title, 'link': link})\n",
    "    return results\n",
    "\n",
    "def write_csv(data, filename):\n",
    "    import csv\n",
    "    with open(filename, 'w', newline='') as f:\n",
    "        writer = csv.DictWriter(f, fieldnames=['title', 'link'])\n",
    "        writer.writeheader()\n",
    "        writer.writerows(data)\n",
    "\n",
    "def read_csv(filename):\n",
    "    import pandas as pd\n",
    "    df = pd.read_csv(filename)\n",
    "    return df"
   ]
  },
  {
   "cell_type": "code",
   "execution_count": 3,
   "id": "f3eb28da",
   "metadata": {},
   "outputs": [
    {
     "ename": "ModuleNotFoundError",
     "evalue": "No module named 'bs4'",
     "output_type": "error",
     "traceback": [
      "\u001b[0;31m---------------------------------------------------------------------------\u001b[0m",
      "\u001b[0;31mModuleNotFoundError\u001b[0m                       Traceback (most recent call last)",
      "Cell \u001b[0;32mIn[3], line 4\u001b[0m\n\u001b[1;32m      2\u001b[0m selector \u001b[38;5;241m=\u001b[39m \u001b[38;5;124m'\u001b[39m\u001b[38;5;124mh2.title a\u001b[39m\u001b[38;5;124m'\u001b[39m\n\u001b[1;32m      3\u001b[0m html \u001b[38;5;241m=\u001b[39m fetch_html(url)\n\u001b[0;32m----> 4\u001b[0m data \u001b[38;5;241m=\u001b[39m \u001b[43mextract_news\u001b[49m\u001b[43m(\u001b[49m\u001b[43mhtml\u001b[49m\u001b[43m,\u001b[49m\u001b[43m \u001b[49m\u001b[43mselector\u001b[49m\u001b[43m)\u001b[49m\n\u001b[1;32m      5\u001b[0m write_csv(data, \u001b[38;5;124m'\u001b[39m\u001b[38;5;124mnews.csv\u001b[39m\u001b[38;5;124m'\u001b[39m)\n\u001b[1;32m      6\u001b[0m df \u001b[38;5;241m=\u001b[39m read_csv(\u001b[38;5;124m'\u001b[39m\u001b[38;5;124mnews.csv\u001b[39m\u001b[38;5;124m'\u001b[39m)\n",
      "Cell \u001b[0;32mIn[2], line 7\u001b[0m, in \u001b[0;36mextract_news\u001b[0;34m(html, selector)\u001b[0m\n\u001b[1;32m      6\u001b[0m \u001b[38;5;28;01mdef\u001b[39;00m\u001b[38;5;250m \u001b[39m\u001b[38;5;21mextract_news\u001b[39m(html, selector):\n\u001b[0;32m----> 7\u001b[0m     \u001b[38;5;28;01mfrom\u001b[39;00m\u001b[38;5;250m \u001b[39m\u001b[38;5;21;01mbs4\u001b[39;00m\u001b[38;5;250m \u001b[39m\u001b[38;5;28;01mimport\u001b[39;00m BeautifulSoup\n\u001b[1;32m      8\u001b[0m     soup \u001b[38;5;241m=\u001b[39m BeautifulSoup(html, \u001b[38;5;124m'\u001b[39m\u001b[38;5;124mhtml.parser\u001b[39m\u001b[38;5;124m'\u001b[39m)\n\u001b[1;32m      9\u001b[0m     results \u001b[38;5;241m=\u001b[39m []\n",
      "\u001b[0;31mModuleNotFoundError\u001b[0m: No module named 'bs4'"
     ]
    }
   ],
   "source": [
    "url = 'https://example.com/news'\n",
    "selector = 'h2.title a'\n",
    "html = fetch_html(url)\n",
    "data = extract_news(html, selector)\n",
    "write_csv(data, 'news.csv')\n",
    "df = read_csv('news.csv')\n",
    "display(df)"
   ]
  },
  {
   "cell_type": "markdown",
   "id": "57077ef5",
   "metadata": {},
   "source": [
    "# Job 3: Crawl website tin tức → Lưu vào file CSV\n",
    "\n",
    "Quy trình sử dụng Jupyter Notebook để crawl dữ liệu từ website tin tức, trích xuất tiêu đề và link, ghi ra file CSV."
   ]
  },
  {
   "cell_type": "markdown",
   "id": "439ff3b5",
   "metadata": {},
   "source": [
    "## 1. Cài đặt và kiểm tra các thư viện cần thiết\n",
    "\n",
    "Cài đặt các thư viện Python cần thiết cho job này:\n",
    "\n",
    "```bash\n",
    "!pip install requests beautifulsoup4\n",
    "```\n",
    "\n",
    "Kiểm tra import và phiên bản các thư viện."
   ]
  },
  {
   "cell_type": "code",
   "execution_count": 7,
   "id": "acab6782",
   "metadata": {},
   "outputs": [
    {
     "name": "stdout",
     "output_type": "stream",
     "text": [
      "requests: 2.22.0\n",
      "bs4: 4.13.4\n"
     ]
    }
   ],
   "source": [
    "import requests\n",
    "import bs4\n",
    "print('requests:', requests.__version__)\n",
    "print('bs4:', bs4.__version__)\n"
   ]
  },
  {
   "cell_type": "markdown",
   "id": "d860560a",
   "metadata": {},
   "source": [
    "## 2. Định nghĩa URL và cấu trúc HTML cần crawl\n",
    "\n",
    "Xác định URL trang tin tức và selector HTML để trích xuất tiêu đề, link."
   ]
  },
  {
   "cell_type": "code",
   "execution_count": 22,
   "id": "79e073cc",
   "metadata": {},
   "outputs": [
    {
     "name": "stdout",
     "output_type": "stream",
     "text": [
      "URL: https://google.com/search?q=example\n",
      "Selector: a\n"
     ]
    }
   ],
   "source": [
    "url = 'https://google.com/search?q=example'\n",
    "selector = 'a'  # Thay đổi selector cho phù hợp với trang thực tế\n",
    "print('URL:', url)\n",
    "print('Selector:', selector)"
   ]
  },
  {
   "cell_type": "markdown",
   "id": "053dc18a",
   "metadata": {},
   "source": [
    "## 3. Gửi request, lấy HTML\n",
    "\n",
    "Sử dụng requests để lấy nội dung HTML của trang tin tức."
   ]
  },
  {
   "cell_type": "code",
   "execution_count": 23,
   "id": "81f6c71a",
   "metadata": {},
   "outputs": [
    {
     "name": "stdout",
     "output_type": "stream",
     "text": [
      "<!DOCTYPE html><html lang=\"vi\"><head><title>Google Search</title><style>body{background-color:#fff}</style></head><body><noscript><style>table,div,span,p{display:none}</style><meta content=\"0;url=/httpservice/retry/enablejs?sei=-i12aJX2LqXh2roPsN-fsAw\" http-equiv=\"refresh\"><div style=\"display:block\">Xin vui lòng nh&#7845;n <a href=\"/httpservice/retry/enablejs?sei=-i12aJX2LqXh2roPsN-fsAw\">vào &#273;ây</a> n&#7871;u b&#7841;n không &#273;&#432;&#7907;c chuy&#7875;n &#273;i trong vòng vài giây.</di\n"
     ]
    }
   ],
   "source": [
    "import requests\n",
    "r = requests.get(url)\n",
    "html = r.text\n",
    "print(html[:500])  # Hiển thị 500 ký tự đầu tiên của HTML"
   ]
  },
  {
   "cell_type": "markdown",
   "id": "10c3282c",
   "metadata": {},
   "source": [
    "## 4. Trích xuất tiêu đề, link bằng BeautifulSoup\n",
    "\n",
    "Dùng BeautifulSoup để lấy thông tin tiêu đề và link bài viết từ HTML."
   ]
  },
  {
   "cell_type": "code",
   "execution_count": 24,
   "id": "d3358884",
   "metadata": {},
   "outputs": [
    {
     "name": "stdout",
     "output_type": "stream",
     "text": [
      "Kết quả crawl: [{'title': 'vào đây', 'link': '/httpservice/retry/enablejs?sei=-i12aJX2LqXh2roPsN-fsAw'}, {'title': 'click here', 'link': '/search?q=example&sca_esv=0f3f3d91d2ee70a0&ie=UTF-8&emsg=SG_REL&sei=-i12aJX2LqXh2roPsN-fsAw'}, {'title': 'feedback', 'link': 'https://support.google.com/websearch'}]\n"
     ]
    }
   ],
   "source": [
    "from bs4 import BeautifulSoup\n",
    "soup = BeautifulSoup(html, 'html.parser')\n",
    "results = []\n",
    "for item in soup.select(selector):\n",
    "    title = item.text\n",
    "    link = item['href']\n",
    "    results.append({'title': title, 'link': link})\n",
    "print('Kết quả crawl:', results)"
   ]
  },
  {
   "cell_type": "markdown",
   "id": "50a1c1b2",
   "metadata": {},
   "source": [
    "## 5. Ghi kết quả vào file CSV\n",
    "\n",
    "Sử dụng csv để ghi kết quả vào file 'news.csv'."
   ]
  },
  {
   "cell_type": "code",
   "execution_count": 25,
   "id": "a8f5f594",
   "metadata": {},
   "outputs": [
    {
     "name": "stdout",
     "output_type": "stream",
     "text": [
      "Đã ghi kết quả vào news.csv\n"
     ]
    }
   ],
   "source": [
    "import csv\n",
    "with open('news.csv', 'w', newline='') as f:\n",
    "    writer = csv.DictWriter(f, fieldnames=['title', 'link'])\n",
    "    writer.writeheader()\n",
    "    writer.writerows(results)\n",
    "print('Đã ghi kết quả vào news.csv')"
   ]
  },
  {
   "cell_type": "markdown",
   "id": "edb97aef",
   "metadata": {},
   "source": [
    "## 6. Kiểm tra kết quả ghi ra file\n",
    "\n",
    "Đọc lại file CSV vừa ghi để kiểm tra dữ liệu đã được lưu đúng."
   ]
  },
  {
   "cell_type": "code",
   "execution_count": 27,
   "id": "e8974818",
   "metadata": {},
   "outputs": [
    {
     "data": {
      "text/html": [
       "<div>\n",
       "<style scoped>\n",
       "    .dataframe tbody tr th:only-of-type {\n",
       "        vertical-align: middle;\n",
       "    }\n",
       "\n",
       "    .dataframe tbody tr th {\n",
       "        vertical-align: top;\n",
       "    }\n",
       "\n",
       "    .dataframe thead th {\n",
       "        text-align: right;\n",
       "    }\n",
       "</style>\n",
       "<table border=\"1\" class=\"dataframe\">\n",
       "  <thead>\n",
       "    <tr style=\"text-align: right;\">\n",
       "      <th></th>\n",
       "      <th>title</th>\n",
       "      <th>link</th>\n",
       "    </tr>\n",
       "  </thead>\n",
       "  <tbody>\n",
       "    <tr>\n",
       "      <th>0</th>\n",
       "      <td>vào đây</td>\n",
       "      <td>/httpservice/retry/enablejs?sei=-i12aJX2LqXh2r...</td>\n",
       "    </tr>\n",
       "    <tr>\n",
       "      <th>1</th>\n",
       "      <td>click here</td>\n",
       "      <td>/search?q=example&amp;sca_esv=0f3f3d91d2ee70a0&amp;ie=...</td>\n",
       "    </tr>\n",
       "    <tr>\n",
       "      <th>2</th>\n",
       "      <td>feedback</td>\n",
       "      <td>https://support.google.com/websearch</td>\n",
       "    </tr>\n",
       "  </tbody>\n",
       "</table>\n",
       "</div>"
      ],
      "text/plain": [
       "        title                                               link\n",
       "0     vào đây  /httpservice/retry/enablejs?sei=-i12aJX2LqXh2r...\n",
       "1  click here  /search?q=example&sca_esv=0f3f3d91d2ee70a0&ie=...\n",
       "2    feedback               https://support.google.com/websearch"
      ]
     },
     "metadata": {},
     "output_type": "display_data"
    }
   ],
   "source": [
    "import pandas as pd\n",
    "df = pd.read_csv('news.csv')\n",
    "display(df)"
   ]
  }
 ],
 "metadata": {
  "kernelspec": {
   "display_name": "Python 3",
   "language": "python",
   "name": "python3"
  },
  "language_info": {
   "codemirror_mode": {
    "name": "ipython",
    "version": 3
   },
   "file_extension": ".py",
   "mimetype": "text/x-python",
   "name": "python",
   "nbconvert_exporter": "python",
   "pygments_lexer": "ipython3",
   "version": "3.8.10"
  }
 },
 "nbformat": 4,
 "nbformat_minor": 5
}
